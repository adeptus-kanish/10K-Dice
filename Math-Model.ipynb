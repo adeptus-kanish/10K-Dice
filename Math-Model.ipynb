{
 "cells": [
  {
   "cell_type": "markdown",
   "id": "838af6c9-10b7-497a-b327-1855bdda1a5c",
   "metadata": {},
   "source": [
    "## 1. Outcome Space"
   ]
  },
  {
   "cell_type": "markdown",
   "id": "58af2904-a018-4445-8893-ff385657ba70",
   "metadata": {},
   "source": [
    "- Integer value in between (1-100)\n",
    "- Every roll gonna be `uniformly distributed`"
   ]
  },
  {
   "cell_type": "code",
   "execution_count": 1,
   "id": "7b8f7b90-a0b6-433c-8fe4-59deb21d3fdf",
   "metadata": {},
   "outputs": [
    {
     "data": {
      "text/plain": [
       "2.79"
      ]
     },
     "execution_count": 1,
     "metadata": {},
     "output_type": "execute_result"
    }
   ],
   "source": [
    "import numpy as np\n",
    "\n",
    "size = 100\n",
    "roll = round(np.random.uniform(1, 100), 2)\n",
    "roll"
   ]
  },
  {
   "cell_type": "markdown",
   "id": "7e0a4c67-84aa-4680-802c-8b8279f21e65",
   "metadata": {},
   "source": [
    "## 2. User Bet Options"
   ]
  },
  {
   "cell_type": "markdown",
   "id": "3b41bc2f-d3fe-4ed4-8914-c476b6919608",
   "metadata": {},
   "source": [
    "User chooses:\n",
    "- A target number (between `1-100`)\n",
    "- Bet `over` or `under` the chosen\n",
    "- wager amount\n",
    "\n",
    "Win Chance Calculation:\n",
    "- if betting under `X` \\\n",
    "  $ multiplier = \\frac{100}{X} \\times \\frac{rtp}{100} $ \n",
    "- if betting over `X` \\\n",
    "  $ multiplier = \\frac{100}{100-(X+house\\_edge)} \\times \\frac{rtp}{100} $"
   ]
  },
  {
   "cell_type": "code",
   "execution_count": 5,
   "id": "a174b6c5-c627-47e3-9b2e-6ea0ad76dc86",
   "metadata": {},
   "outputs": [
    {
     "data": {
      "text/plain": [
       "2.69"
      ]
     },
     "execution_count": 5,
     "metadata": {},
     "output_type": "execute_result"
    }
   ],
   "source": [
    "def multiplier(X, a, b):\n",
    "    \"\"\"\n",
    "    X: user-selected value (e.g. 47.5)\n",
    "    a: target RTP (e.g. 95)\n",
    "    b: bet type: 0 = under, 1 = over\n",
    "\n",
    "    Returns:\n",
    "        Adjusted multiplier, accounting for house edge (black zone)\n",
    "    \"\"\"\n",
    "    if b == 0:  # under (blue)\n",
    "        return round((100 / X) * (a / 100), 2)\n",
    "    elif b == 1:  # over (purple)\n",
    "        return round((100 / (100 - (X + 5))) * (a / 100), 2)\n",
    "    else:\n",
    "        raise ValueError(\"Invalid bet type: use 0 for under or 1 for over.\")\n",
    "\n",
    "out = multiplier(35.29, a=95, b=0)\n",
    "out"
   ]
  },
  {
   "cell_type": "markdown",
   "id": "7e9a7e16-e75e-4ff3-9062-b77c08b33091",
   "metadata": {},
   "source": [
    "## 3. Payout Calculation"
   ]
  },
  {
   "cell_type": "markdown",
   "id": "232740b7-ee8a-4cfe-a9e4-377c521d2ebc",
   "metadata": {},
   "source": [
    "Ensuring `expected result` should be `(1 - house_edge)`"
   ]
  },
  {
   "cell_type": "markdown",
   "id": "b14d87f5-c52d-4de3-853c-86f00b202877",
   "metadata": {},
   "source": [
    "$$ payout = bet \\times multiplier $$"
   ]
  },
  {
   "cell_type": "code",
   "execution_count": 7,
   "id": "65cf57cc-a745-4e1e-a808-229f0cf78e9f",
   "metadata": {},
   "outputs": [
    {
     "data": {
      "text/plain": [
       "2.69"
      ]
     },
     "execution_count": 7,
     "metadata": {},
     "output_type": "execute_result"
    }
   ],
   "source": [
    "house_edge = 0.05 * 100\n",
    "target_rtp = 0.95 * 100\n",
    "bet = 1\n",
    "payout = 1 * out\n",
    "payout"
   ]
  }
 ],
 "metadata": {
  "kernelspec": {
   "display_name": "Python 3 (ipykernel)",
   "language": "python",
   "name": "python3"
  },
  "language_info": {
   "codemirror_mode": {
    "name": "ipython",
    "version": 3
   },
   "file_extension": ".py",
   "mimetype": "text/x-python",
   "name": "python",
   "nbconvert_exporter": "python",
   "pygments_lexer": "ipython3",
   "version": "3.10.17"
  }
 },
 "nbformat": 4,
 "nbformat_minor": 5
}
